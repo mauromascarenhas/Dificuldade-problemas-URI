{
 "cells": [
  {
   "cell_type": "code",
   "execution_count": 1,
   "id": "da7a6176",
   "metadata": {},
   "outputs": [],
   "source": [
    "import pandas as pd\n",
    "import seaborn as sns\n",
    "\n",
    "import matplotlib.pyplot as plt\n",
    "\n",
    "from sklearn.linear_model import LinearRegression"
   ]
  },
  {
   "cell_type": "markdown",
   "id": "365474fa-4d12-47ff-848c-877343ed7ba9",
   "metadata": {},
   "source": [
    "# Leitura e preparação dos dados"
   ]
  },
  {
   "cell_type": "code",
   "execution_count": 2,
   "id": "ee7cc1d2-f6df-47a4-8ba8-3142f0c3e863",
   "metadata": {
    "scrolled": true
   },
   "outputs": [
    {
     "data": {
      "text/html": [
       "<div>\n",
       "<style scoped>\n",
       "    .dataframe tbody tr th:only-of-type {\n",
       "        vertical-align: middle;\n",
       "    }\n",
       "\n",
       "    .dataframe tbody tr th {\n",
       "        vertical-align: top;\n",
       "    }\n",
       "\n",
       "    .dataframe thead th {\n",
       "        text-align: right;\n",
       "    }\n",
       "</style>\n",
       "<table border=\"1\" class=\"dataframe\">\n",
       "  <thead>\n",
       "    <tr style=\"text-align: right;\">\n",
       "      <th></th>\n",
       "      <th>name</th>\n",
       "      <th>category</th>\n",
       "      <th>level</th>\n",
       "      <th>description</th>\n",
       "      <th>input</th>\n",
       "      <th>output</th>\n",
       "      <th>has_images</th>\n",
       "      <th>s_level</th>\n",
       "      <th>submissions</th>\n",
       "      <th>solved</th>\n",
       "      <th>ratio</th>\n",
       "    </tr>\n",
       "  </thead>\n",
       "  <tbody>\n",
       "    <tr>\n",
       "      <th>1001</th>\n",
       "      <td>Extremely Basic</td>\n",
       "      <td>Beginner</td>\n",
       "      <td>5</td>\n",
       "      <td>Read 2 variables, named A and B and make the s...</td>\n",
       "      <td>The input file will contain 2 integer numbers.</td>\n",
       "      <td>Print the letter X (uppercase) with a blank sp...</td>\n",
       "      <td>False</td>\n",
       "      <td>5 / 10</td>\n",
       "      <td>816938</td>\n",
       "      <td>236060</td>\n",
       "      <td>28.90%</td>\n",
       "    </tr>\n",
       "    <tr>\n",
       "      <th>1002</th>\n",
       "      <td>Area of a Circle</td>\n",
       "      <td>Beginner</td>\n",
       "      <td>5</td>\n",
       "      <td>The formula to calculate the area of a circumf...</td>\n",
       "      <td>The input contains a value of floating point (...</td>\n",
       "      <td>Present the message \"A=\" followed by the value...</td>\n",
       "      <td>False</td>\n",
       "      <td>5 / 10</td>\n",
       "      <td>650389</td>\n",
       "      <td>166254</td>\n",
       "      <td>25.56%</td>\n",
       "    </tr>\n",
       "    <tr>\n",
       "      <th>1003</th>\n",
       "      <td>Simple Sum</td>\n",
       "      <td>Beginner</td>\n",
       "      <td>2</td>\n",
       "      <td>Read two integer values, in this case, the var...</td>\n",
       "      <td>The input file contains 2 integer numbers.</td>\n",
       "      <td>Print the variable SOMA with all the capital l...</td>\n",
       "      <td>False</td>\n",
       "      <td>2 / 10</td>\n",
       "      <td>313933</td>\n",
       "      <td>165940</td>\n",
       "      <td>52.86%</td>\n",
       "    </tr>\n",
       "    <tr>\n",
       "      <th>1004</th>\n",
       "      <td>Simple Product</td>\n",
       "      <td>Beginner</td>\n",
       "      <td>1</td>\n",
       "      <td>Read two integer values. After this, calculate...</td>\n",
       "      <td>The input file contains 2 integer numbers.</td>\n",
       "      <td>Print PROD according to the following example,...</td>\n",
       "      <td>False</td>\n",
       "      <td>1 / 10</td>\n",
       "      <td>238645</td>\n",
       "      <td>158387</td>\n",
       "      <td>66.37%</td>\n",
       "    </tr>\n",
       "    <tr>\n",
       "      <th>1005</th>\n",
       "      <td>Average 1</td>\n",
       "      <td>Beginner</td>\n",
       "      <td>4</td>\n",
       "      <td>Read two floating points' values of double pre...</td>\n",
       "      <td>The input file contains 2 floating points' val...</td>\n",
       "      <td>Print MEDIA(average in Portuguese) according t...</td>\n",
       "      <td>False</td>\n",
       "      <td>4 / 10</td>\n",
       "      <td>342625</td>\n",
       "      <td>136210</td>\n",
       "      <td>39.75%</td>\n",
       "    </tr>\n",
       "  </tbody>\n",
       "</table>\n",
       "</div>"
      ],
      "text/plain": [
       "                  name  category  level  \\\n",
       "1001   Extremely Basic  Beginner      5   \n",
       "1002  Area of a Circle  Beginner      5   \n",
       "1003        Simple Sum  Beginner      2   \n",
       "1004    Simple Product  Beginner      1   \n",
       "1005         Average 1  Beginner      4   \n",
       "\n",
       "                                            description  \\\n",
       "1001  Read 2 variables, named A and B and make the s...   \n",
       "1002  The formula to calculate the area of a circumf...   \n",
       "1003  Read two integer values, in this case, the var...   \n",
       "1004  Read two integer values. After this, calculate...   \n",
       "1005  Read two floating points' values of double pre...   \n",
       "\n",
       "                                                  input  \\\n",
       "1001     The input file will contain 2 integer numbers.   \n",
       "1002  The input contains a value of floating point (...   \n",
       "1003         The input file contains 2 integer numbers.   \n",
       "1004         The input file contains 2 integer numbers.   \n",
       "1005  The input file contains 2 floating points' val...   \n",
       "\n",
       "                                                 output  has_images s_level  \\\n",
       "1001  Print the letter X (uppercase) with a blank sp...       False  5 / 10   \n",
       "1002  Present the message \"A=\" followed by the value...       False  5 / 10   \n",
       "1003  Print the variable SOMA with all the capital l...       False  2 / 10   \n",
       "1004  Print PROD according to the following example,...       False  1 / 10   \n",
       "1005  Print MEDIA(average in Portuguese) according t...       False  4 / 10   \n",
       "\n",
       "      submissions  solved   ratio  \n",
       "1001       816938  236060  28.90%  \n",
       "1002       650389  166254  25.56%  \n",
       "1003       313933  165940  52.86%  \n",
       "1004       238645  158387  66.37%  \n",
       "1005       342625  136210  39.75%  "
      ]
     },
     "execution_count": 2,
     "metadata": {},
     "output_type": "execute_result"
    }
   ],
   "source": [
    "ds = pd.read_csv(\"../datasets/EN_03_terciary_data.csv\", sep = \";\", index_col = 0)\n",
    "ds.head()"
   ]
  },
  {
   "cell_type": "code",
   "execution_count": 3,
   "id": "e40771af-bd9d-4dc8-973a-6287b2a7454a",
   "metadata": {},
   "outputs": [
    {
     "data": {
      "text/html": [
       "<div>\n",
       "<style scoped>\n",
       "    .dataframe tbody tr th:only-of-type {\n",
       "        vertical-align: middle;\n",
       "    }\n",
       "\n",
       "    .dataframe tbody tr th {\n",
       "        vertical-align: top;\n",
       "    }\n",
       "\n",
       "    .dataframe thead th {\n",
       "        text-align: right;\n",
       "    }\n",
       "</style>\n",
       "<table border=\"1\" class=\"dataframe\">\n",
       "  <thead>\n",
       "    <tr style=\"text-align: right;\">\n",
       "      <th></th>\n",
       "      <th>name</th>\n",
       "      <th>description</th>\n",
       "      <th>input</th>\n",
       "      <th>output</th>\n",
       "      <th>category</th>\n",
       "      <th>level</th>\n",
       "      <th>submissions</th>\n",
       "      <th>solved</th>\n",
       "      <th>ratio</th>\n",
       "    </tr>\n",
       "  </thead>\n",
       "  <tbody>\n",
       "    <tr>\n",
       "      <th>1001</th>\n",
       "      <td>Extremely Basic</td>\n",
       "      <td>Read 2 variables, named A and B and make the s...</td>\n",
       "      <td>The input file will contain 2 integer numbers.</td>\n",
       "      <td>Print the letter X (uppercase) with a blank sp...</td>\n",
       "      <td>Beginner</td>\n",
       "      <td>5</td>\n",
       "      <td>816938</td>\n",
       "      <td>236060</td>\n",
       "      <td>0.289</td>\n",
       "    </tr>\n",
       "    <tr>\n",
       "      <th>1002</th>\n",
       "      <td>Area of a Circle</td>\n",
       "      <td>The formula to calculate the area of a circumf...</td>\n",
       "      <td>The input contains a value of floating point (...</td>\n",
       "      <td>Present the message \"A=\" followed by the value...</td>\n",
       "      <td>Beginner</td>\n",
       "      <td>5</td>\n",
       "      <td>650389</td>\n",
       "      <td>166254</td>\n",
       "      <td>0.256</td>\n",
       "    </tr>\n",
       "    <tr>\n",
       "      <th>1003</th>\n",
       "      <td>Simple Sum</td>\n",
       "      <td>Read two integer values, in this case, the var...</td>\n",
       "      <td>The input file contains 2 integer numbers.</td>\n",
       "      <td>Print the variable SOMA with all the capital l...</td>\n",
       "      <td>Beginner</td>\n",
       "      <td>2</td>\n",
       "      <td>313933</td>\n",
       "      <td>165940</td>\n",
       "      <td>0.529</td>\n",
       "    </tr>\n",
       "    <tr>\n",
       "      <th>1004</th>\n",
       "      <td>Simple Product</td>\n",
       "      <td>Read two integer values. After this, calculate...</td>\n",
       "      <td>The input file contains 2 integer numbers.</td>\n",
       "      <td>Print PROD according to the following example,...</td>\n",
       "      <td>Beginner</td>\n",
       "      <td>1</td>\n",
       "      <td>238645</td>\n",
       "      <td>158387</td>\n",
       "      <td>0.664</td>\n",
       "    </tr>\n",
       "    <tr>\n",
       "      <th>1005</th>\n",
       "      <td>Average 1</td>\n",
       "      <td>Read two floating points' values of double pre...</td>\n",
       "      <td>The input file contains 2 floating points' val...</td>\n",
       "      <td>Print MEDIA(average in Portuguese) according t...</td>\n",
       "      <td>Beginner</td>\n",
       "      <td>4</td>\n",
       "      <td>342625</td>\n",
       "      <td>136210</td>\n",
       "      <td>0.398</td>\n",
       "    </tr>\n",
       "  </tbody>\n",
       "</table>\n",
       "</div>"
      ],
      "text/plain": [
       "                  name                                        description  \\\n",
       "1001   Extremely Basic  Read 2 variables, named A and B and make the s...   \n",
       "1002  Area of a Circle  The formula to calculate the area of a circumf...   \n",
       "1003        Simple Sum  Read two integer values, in this case, the var...   \n",
       "1004    Simple Product  Read two integer values. After this, calculate...   \n",
       "1005         Average 1  Read two floating points' values of double pre...   \n",
       "\n",
       "                                                  input  \\\n",
       "1001     The input file will contain 2 integer numbers.   \n",
       "1002  The input contains a value of floating point (...   \n",
       "1003         The input file contains 2 integer numbers.   \n",
       "1004         The input file contains 2 integer numbers.   \n",
       "1005  The input file contains 2 floating points' val...   \n",
       "\n",
       "                                                 output  category  level  \\\n",
       "1001  Print the letter X (uppercase) with a blank sp...  Beginner      5   \n",
       "1002  Present the message \"A=\" followed by the value...  Beginner      5   \n",
       "1003  Print the variable SOMA with all the capital l...  Beginner      2   \n",
       "1004  Print PROD according to the following example,...  Beginner      1   \n",
       "1005  Print MEDIA(average in Portuguese) according t...  Beginner      4   \n",
       "\n",
       "      submissions  solved  ratio  \n",
       "1001       816938  236060  0.289  \n",
       "1002       650389  166254  0.256  \n",
       "1003       313933  165940  0.529  \n",
       "1004       238645  158387  0.664  \n",
       "1005       342625  136210  0.398  "
      ]
     },
     "execution_count": 3,
     "metadata": {},
     "output_type": "execute_result"
    }
   ],
   "source": [
    "ds = ds[[\"name\", \"description\", \"input\", \"output\", \"category\", \"level\", \"submissions\", \"solved\"]]\n",
    "ds[\"ratio\"] = (ds[\"solved\"] / ds[\"submissions\"]).round(3)\n",
    "ds.head()"
   ]
  },
  {
   "cell_type": "markdown",
   "id": "dc0e13b6-4df5-4243-aeb9-8dc5d891f32d",
   "metadata": {},
   "source": [
    "## Informações estatísticas"
   ]
  },
  {
   "cell_type": "code",
   "execution_count": 4,
   "id": "4c111b32-3e9c-4c36-baec-57ddd7b6da52",
   "metadata": {},
   "outputs": [
    {
     "data": {
      "text/plain": [
       "<Axes: xlabel='level', ylabel='ratio'>"
      ]
     },
     "execution_count": 4,
     "metadata": {},
     "output_type": "execute_result"
    },
    {
     "data": {
      "image/png": "[encoded data removed]",
      "text/plain": [
       "<Figure size 640x480 with 1 Axes>"
      ]
     },
     "metadata": {},
     "output_type": "display_data"
    }
   ],
   "source": [
    "sns.boxplot(ds, x = \"level\", y = \"ratio\")"
   ]
  },
  {
   "cell_type": "code",
   "execution_count": 5,
   "id": "cc91a403-bf6a-47e3-adbc-8e164cf0ce3b",
   "metadata": {},
   "outputs": [
    {
     "data": {
      "image/png": "[encoded data removed]",
      "text/plain": [
       "<Figure size 640x480 with 1 Axes>"
      ]
     },
     "metadata": {},
     "output_type": "display_data"
    }
   ],
   "source": [
    "g = sns.boxplot(ds, x = \"category\", y = \"ratio\")\n",
    "g.tick_params(axis='x', rotation=90)"
   ]
  },
  {
   "cell_type": "code",
   "execution_count": 6,
   "id": "b77d85bc-0cd3-46b6-b70c-15fa3442bdc4",
   "metadata": {},
   "outputs": [
    {
     "data": {
      "text/html": [
       "<div>\n",
       "<style scoped>\n",
       "    .dataframe tbody tr th:only-of-type {\n",
       "        vertical-align: middle;\n",
       "    }\n",
       "\n",
       "    .dataframe tbody tr th {\n",
       "        vertical-align: top;\n",
       "    }\n",
       "\n",
       "    .dataframe thead th {\n",
       "        text-align: right;\n",
       "    }\n",
       "</style>\n",
       "<table border=\"1\" class=\"dataframe\">\n",
       "  <thead>\n",
       "    <tr style=\"text-align: right;\">\n",
       "      <th></th>\n",
       "      <th>level</th>\n",
       "      <th>ratio</th>\n",
       "    </tr>\n",
       "  </thead>\n",
       "  <tbody>\n",
       "    <tr>\n",
       "      <th>level</th>\n",
       "      <td>1.000000</td>\n",
       "      <td>-0.803776</td>\n",
       "    </tr>\n",
       "    <tr>\n",
       "      <th>ratio</th>\n",
       "      <td>-0.803776</td>\n",
       "      <td>1.000000</td>\n",
       "    </tr>\n",
       "  </tbody>\n",
       "</table>\n",
       "</div>"
      ],
      "text/plain": [
       "          level     ratio\n",
       "level  1.000000 -0.803776\n",
       "ratio -0.803776  1.000000"
      ]
     },
     "execution_count": 6,
     "metadata": {},
     "output_type": "execute_result"
    }
   ],
   "source": [
    "ds[[\"level\", \"ratio\"]].corr()"
   ]
  },
  {
   "cell_type": "code",
   "execution_count": 7,
   "id": "c1b73a46-c93f-4dcf-8902-1f47b35e5657",
   "metadata": {},
   "outputs": [
    {
     "data": {
      "text/html": [
       "<div>\n",
       "<style scoped>\n",
       "    .dataframe tbody tr th:only-of-type {\n",
       "        vertical-align: middle;\n",
       "    }\n",
       "\n",
       "    .dataframe tbody tr th {\n",
       "        vertical-align: top;\n",
       "    }\n",
       "\n",
       "    .dataframe thead th {\n",
       "        text-align: right;\n",
       "    }\n",
       "</style>\n",
       "<table border=\"1\" class=\"dataframe\">\n",
       "  <thead>\n",
       "    <tr style=\"text-align: right;\">\n",
       "      <th></th>\n",
       "      <th>level</th>\n",
       "      <th>ratio</th>\n",
       "    </tr>\n",
       "  </thead>\n",
       "  <tbody>\n",
       "    <tr>\n",
       "      <th>count</th>\n",
       "      <td>1833.000000</td>\n",
       "      <td>1833.000000</td>\n",
       "    </tr>\n",
       "    <tr>\n",
       "      <th>mean</th>\n",
       "      <td>5.515548</td>\n",
       "      <td>0.404763</td>\n",
       "    </tr>\n",
       "    <tr>\n",
       "      <th>std</th>\n",
       "      <td>2.850899</td>\n",
       "      <td>0.166159</td>\n",
       "    </tr>\n",
       "    <tr>\n",
       "      <th>min</th>\n",
       "      <td>1.000000</td>\n",
       "      <td>0.006000</td>\n",
       "    </tr>\n",
       "    <tr>\n",
       "      <th>25%</th>\n",
       "      <td>3.000000</td>\n",
       "      <td>0.286000</td>\n",
       "    </tr>\n",
       "    <tr>\n",
       "      <th>50%</th>\n",
       "      <td>6.000000</td>\n",
       "      <td>0.392000</td>\n",
       "    </tr>\n",
       "    <tr>\n",
       "      <th>75%</th>\n",
       "      <td>8.000000</td>\n",
       "      <td>0.518000</td>\n",
       "    </tr>\n",
       "    <tr>\n",
       "      <th>max</th>\n",
       "      <td>10.000000</td>\n",
       "      <td>1.000000</td>\n",
       "    </tr>\n",
       "  </tbody>\n",
       "</table>\n",
       "</div>"
      ],
      "text/plain": [
       "             level        ratio\n",
       "count  1833.000000  1833.000000\n",
       "mean      5.515548     0.404763\n",
       "std       2.850899     0.166159\n",
       "min       1.000000     0.006000\n",
       "25%       3.000000     0.286000\n",
       "50%       6.000000     0.392000\n",
       "75%       8.000000     0.518000\n",
       "max      10.000000     1.000000"
      ]
     },
     "execution_count": 7,
     "metadata": {},
     "output_type": "execute_result"
    }
   ],
   "source": [
    "ds[[\"level\", \"ratio\"]].describe()"
   ]
  },
  {
   "cell_type": "markdown",
   "id": "8cf5d599-6237-46a4-8691-ec72d6e744e7",
   "metadata": {},
   "source": [
    "## Definição do nível de dificuldade conforme a taxa de acerto (via regressão linear)"
   ]
  },
  {
   "cell_type": "code",
   "execution_count": 8,
   "id": "8eec28e3-6afd-4155-9fc2-ae9aac67fb5d",
   "metadata": {},
   "outputs": [
    {
     "data": {
      "text/html": [
       "<div>\n",
       "<style scoped>\n",
       "    .dataframe tbody tr th:only-of-type {\n",
       "        vertical-align: middle;\n",
       "    }\n",
       "\n",
       "    .dataframe tbody tr th {\n",
       "        vertical-align: top;\n",
       "    }\n",
       "\n",
       "    .dataframe thead th {\n",
       "        text-align: right;\n",
       "    }\n",
       "</style>\n",
       "<table border=\"1\" class=\"dataframe\">\n",
       "  <thead>\n",
       "    <tr style=\"text-align: right;\">\n",
       "      <th></th>\n",
       "      <th>ratio_inf</th>\n",
       "      <th>ratio_sup</th>\n",
       "    </tr>\n",
       "    <tr>\n",
       "      <th>level</th>\n",
       "      <th></th>\n",
       "      <th></th>\n",
       "    </tr>\n",
       "  </thead>\n",
       "  <tbody>\n",
       "    <tr>\n",
       "      <th>1</th>\n",
       "      <td>0.388125</td>\n",
       "      <td>0.941125</td>\n",
       "    </tr>\n",
       "    <tr>\n",
       "      <th>2</th>\n",
       "      <td>0.342500</td>\n",
       "      <td>0.802500</td>\n",
       "    </tr>\n",
       "    <tr>\n",
       "      <th>3</th>\n",
       "      <td>0.284000</td>\n",
       "      <td>0.724000</td>\n",
       "    </tr>\n",
       "    <tr>\n",
       "      <th>4</th>\n",
       "      <td>0.178750</td>\n",
       "      <td>0.696750</td>\n",
       "    </tr>\n",
       "    <tr>\n",
       "      <th>5</th>\n",
       "      <td>0.084500</td>\n",
       "      <td>0.748500</td>\n",
       "    </tr>\n",
       "    <tr>\n",
       "      <th>6</th>\n",
       "      <td>0.080125</td>\n",
       "      <td>0.683125</td>\n",
       "    </tr>\n",
       "    <tr>\n",
       "      <th>7</th>\n",
       "      <td>0.119000</td>\n",
       "      <td>0.561000</td>\n",
       "    </tr>\n",
       "    <tr>\n",
       "      <th>8</th>\n",
       "      <td>0.103500</td>\n",
       "      <td>0.491500</td>\n",
       "    </tr>\n",
       "    <tr>\n",
       "      <th>9</th>\n",
       "      <td>0.048625</td>\n",
       "      <td>0.477625</td>\n",
       "    </tr>\n",
       "    <tr>\n",
       "      <th>10</th>\n",
       "      <td>-0.038750</td>\n",
       "      <td>0.395250</td>\n",
       "    </tr>\n",
       "  </tbody>\n",
       "</table>\n",
       "</div>"
      ],
      "text/plain": [
       "       ratio_inf  ratio_sup\n",
       "level                      \n",
       "1       0.388125   0.941125\n",
       "2       0.342500   0.802500\n",
       "3       0.284000   0.724000\n",
       "4       0.178750   0.696750\n",
       "5       0.084500   0.748500\n",
       "6       0.080125   0.683125\n",
       "7       0.119000   0.561000\n",
       "8       0.103500   0.491500\n",
       "9       0.048625   0.477625\n",
       "10     -0.038750   0.395250"
      ]
     },
     "execution_count": 8,
     "metadata": {},
     "output_type": "execute_result"
    }
   ],
   "source": [
    "dsn_q1 = ds[[\"level\", \"ratio\"]].groupby(\"level\").quantile(0.25).copy()\n",
    "dsn_q3 = ds[[\"level\", \"ratio\"]].groupby(\"level\").quantile(0.75).copy()\n",
    "\n",
    "iqr = dsn_q3 - dsn_q1\n",
    "\n",
    "dsn_q1 = (dsn_q1 - (1.5 * iqr))\n",
    "dsn_q3 = (dsn_q3 + (1.5 * iqr))\n",
    "\n",
    "dsn_q1 = dsn_q1.rename(columns = {\"ratio\": \"ratio_inf\"})\n",
    "dsn_q3 = dsn_q3.rename(columns = {\"ratio\": \"ratio_sup\"})\n",
    "\n",
    "dsn_qs = dsn_q1.join(dsn_q3)\n",
    "dsn_qs"
   ]
  },
  {
   "cell_type": "markdown",
   "id": "4423d20a-473d-492d-a9d1-b4dec4e87925",
   "metadata": {},
   "source": [
    "### Remoção dos dados fora da amplitude interquartil"
   ]
  },
  {
   "cell_type": "code",
   "execution_count": 9,
   "id": "153fc321-a656-4337-84a5-dbf529545f4d",
   "metadata": {},
   "outputs": [
    {
     "data": {
      "text/html": [
       "<div>\n",
       "<style scoped>\n",
       "    .dataframe tbody tr th:only-of-type {\n",
       "        vertical-align: middle;\n",
       "    }\n",
       "\n",
       "    .dataframe tbody tr th {\n",
       "        vertical-align: top;\n",
       "    }\n",
       "\n",
       "    .dataframe thead th {\n",
       "        text-align: right;\n",
       "    }\n",
       "</style>\n",
       "<table border=\"1\" class=\"dataframe\">\n",
       "  <thead>\n",
       "    <tr style=\"text-align: right;\">\n",
       "      <th></th>\n",
       "      <th>level</th>\n",
       "      <th>ratio</th>\n",
       "      <th>ratio_inf</th>\n",
       "      <th>ratio_sup</th>\n",
       "    </tr>\n",
       "  </thead>\n",
       "  <tbody>\n",
       "    <tr>\n",
       "      <th>1001</th>\n",
       "      <td>5</td>\n",
       "      <td>0.289</td>\n",
       "      <td>0.084500</td>\n",
       "      <td>0.748500</td>\n",
       "    </tr>\n",
       "    <tr>\n",
       "      <th>1002</th>\n",
       "      <td>5</td>\n",
       "      <td>0.256</td>\n",
       "      <td>0.084500</td>\n",
       "      <td>0.748500</td>\n",
       "    </tr>\n",
       "    <tr>\n",
       "      <th>1003</th>\n",
       "      <td>2</td>\n",
       "      <td>0.529</td>\n",
       "      <td>0.342500</td>\n",
       "      <td>0.802500</td>\n",
       "    </tr>\n",
       "    <tr>\n",
       "      <th>1004</th>\n",
       "      <td>1</td>\n",
       "      <td>0.664</td>\n",
       "      <td>0.388125</td>\n",
       "      <td>0.941125</td>\n",
       "    </tr>\n",
       "    <tr>\n",
       "      <th>1005</th>\n",
       "      <td>4</td>\n",
       "      <td>0.398</td>\n",
       "      <td>0.178750</td>\n",
       "      <td>0.696750</td>\n",
       "    </tr>\n",
       "  </tbody>\n",
       "</table>\n",
       "</div>"
      ],
      "text/plain": [
       "      level  ratio  ratio_inf  ratio_sup\n",
       "1001      5  0.289   0.084500   0.748500\n",
       "1002      5  0.256   0.084500   0.748500\n",
       "1003      2  0.529   0.342500   0.802500\n",
       "1004      1  0.664   0.388125   0.941125\n",
       "1005      4  0.398   0.178750   0.696750"
      ]
     },
     "execution_count": 9,
     "metadata": {},
     "output_type": "execute_result"
    }
   ],
   "source": [
    "dsn = ds[[\"level\", \"ratio\"]].copy().join(dsn_qs, on = [\"level\"])\n",
    "dsn = dsn[(dsn[\"ratio\"] <= dsn[\"ratio_sup\"]) & (dsn[\"ratio\"] >= dsn[\"ratio_inf\"])]\n",
    "dsn.head()"
   ]
  },
  {
   "cell_type": "code",
   "execution_count": 10,
   "id": "907222e5-9cd6-406f-8fe0-c1fee1fc6cdb",
   "metadata": {},
   "outputs": [
    {
     "data": {
      "text/plain": [
       "<Axes: xlabel='level', ylabel='ratio'>"
      ]
     },
     "execution_count": 10,
     "metadata": {},
     "output_type": "execute_result"
    },
    {
     "data": {
      "image/png": "[encoded data removed]",
      "text/plain": [
       "<Figure size 640x480 with 1 Axes>"
      ]
     },
     "metadata": {},
     "output_type": "display_data"
    }
   ],
   "source": [
    "dsn = dsn[[\"level\", \"ratio\"]]\n",
    "sns.boxplot(dsn, x = \"level\", y = \"ratio\")"
   ]
  },
  {
   "cell_type": "code",
   "execution_count": 11,
   "id": "2d6cbe7f-962d-453b-b77d-17f1867129b6",
   "metadata": {},
   "outputs": [
    {
     "name": "stdout",
     "output_type": "stream",
     "text": [
      "All size (1833, 9)\n",
      "Train size (1804, 2)\n"
     ]
    },
    {
     "data": {
      "text/html": [
       "<div>\n",
       "<style scoped>\n",
       "    .dataframe tbody tr th:only-of-type {\n",
       "        vertical-align: middle;\n",
       "    }\n",
       "\n",
       "    .dataframe tbody tr th {\n",
       "        vertical-align: top;\n",
       "    }\n",
       "\n",
       "    .dataframe thead th {\n",
       "        text-align: right;\n",
       "    }\n",
       "</style>\n",
       "<table border=\"1\" class=\"dataframe\">\n",
       "  <thead>\n",
       "    <tr style=\"text-align: right;\">\n",
       "      <th></th>\n",
       "      <th>level</th>\n",
       "      <th>ratio</th>\n",
       "    </tr>\n",
       "  </thead>\n",
       "  <tbody>\n",
       "    <tr>\n",
       "      <th>level</th>\n",
       "      <td>1.000000</td>\n",
       "      <td>-0.830722</td>\n",
       "    </tr>\n",
       "    <tr>\n",
       "      <th>ratio</th>\n",
       "      <td>-0.830722</td>\n",
       "      <td>1.000000</td>\n",
       "    </tr>\n",
       "  </tbody>\n",
       "</table>\n",
       "</div>"
      ],
      "text/plain": [
       "          level     ratio\n",
       "level  1.000000 -0.830722\n",
       "ratio -0.830722  1.000000"
      ]
     },
     "execution_count": 11,
     "metadata": {},
     "output_type": "execute_result"
    }
   ],
   "source": [
    "print(\"All size\", ds.shape)\n",
    "print(\"Train size\", dsn.shape)\n",
    "dsn.corr()"
   ]
  },
  {
   "cell_type": "markdown",
   "id": "65ef74b3-f11d-49de-a689-d818350d90ba",
   "metadata": {},
   "source": [
    "### Regressão linear e cálculo dos novos filtros (predict)"
   ]
  },
  {
   "cell_type": "code",
   "execution_count": 12,
   "id": "5fac4780-c7c5-47d8-a54f-69d649c7877f",
   "metadata": {},
   "outputs": [
    {
     "data": {
      "text/html": [
       "<div>\n",
       "<style scoped>\n",
       "    .dataframe tbody tr th:only-of-type {\n",
       "        vertical-align: middle;\n",
       "    }\n",
       "\n",
       "    .dataframe tbody tr th {\n",
       "        vertical-align: top;\n",
       "    }\n",
       "\n",
       "    .dataframe thead th {\n",
       "        text-align: right;\n",
       "    }\n",
       "</style>\n",
       "<table border=\"1\" class=\"dataframe\">\n",
       "  <thead>\n",
       "    <tr style=\"text-align: right;\">\n",
       "      <th></th>\n",
       "      <th>name</th>\n",
       "      <th>description</th>\n",
       "      <th>input</th>\n",
       "      <th>output</th>\n",
       "      <th>category</th>\n",
       "      <th>level</th>\n",
       "      <th>submissions</th>\n",
       "      <th>solved</th>\n",
       "      <th>ratio</th>\n",
       "      <th>n_level</th>\n",
       "    </tr>\n",
       "  </thead>\n",
       "  <tbody>\n",
       "    <tr>\n",
       "      <th>1001</th>\n",
       "      <td>Extremely Basic</td>\n",
       "      <td>Read 2 variables, named A and B and make the s...</td>\n",
       "      <td>The input file will contain 2 integer numbers.</td>\n",
       "      <td>Print the letter X (uppercase) with a blank sp...</td>\n",
       "      <td>Beginner</td>\n",
       "      <td>5</td>\n",
       "      <td>816938</td>\n",
       "      <td>236060</td>\n",
       "      <td>0.289</td>\n",
       "      <td>7</td>\n",
       "    </tr>\n",
       "    <tr>\n",
       "      <th>1002</th>\n",
       "      <td>Area of a Circle</td>\n",
       "      <td>The formula to calculate the area of a circumf...</td>\n",
       "      <td>The input contains a value of floating point (...</td>\n",
       "      <td>Present the message \"A=\" followed by the value...</td>\n",
       "      <td>Beginner</td>\n",
       "      <td>5</td>\n",
       "      <td>650389</td>\n",
       "      <td>166254</td>\n",
       "      <td>0.256</td>\n",
       "      <td>8</td>\n",
       "    </tr>\n",
       "    <tr>\n",
       "      <th>1003</th>\n",
       "      <td>Simple Sum</td>\n",
       "      <td>Read two integer values, in this case, the var...</td>\n",
       "      <td>The input file contains 2 integer numbers.</td>\n",
       "      <td>Print the variable SOMA with all the capital l...</td>\n",
       "      <td>Beginner</td>\n",
       "      <td>2</td>\n",
       "      <td>313933</td>\n",
       "      <td>165940</td>\n",
       "      <td>0.529</td>\n",
       "      <td>4</td>\n",
       "    </tr>\n",
       "    <tr>\n",
       "      <th>1004</th>\n",
       "      <td>Simple Product</td>\n",
       "      <td>Read two integer values. After this, calculate...</td>\n",
       "      <td>The input file contains 2 integer numbers.</td>\n",
       "      <td>Print PROD according to the following example,...</td>\n",
       "      <td>Beginner</td>\n",
       "      <td>1</td>\n",
       "      <td>238645</td>\n",
       "      <td>158387</td>\n",
       "      <td>0.664</td>\n",
       "      <td>2</td>\n",
       "    </tr>\n",
       "    <tr>\n",
       "      <th>1005</th>\n",
       "      <td>Average 1</td>\n",
       "      <td>Read two floating points' values of double pre...</td>\n",
       "      <td>The input file contains 2 floating points' val...</td>\n",
       "      <td>Print MEDIA(average in Portuguese) according t...</td>\n",
       "      <td>Beginner</td>\n",
       "      <td>4</td>\n",
       "      <td>342625</td>\n",
       "      <td>136210</td>\n",
       "      <td>0.398</td>\n",
       "      <td>6</td>\n",
       "    </tr>\n",
       "  </tbody>\n",
       "</table>\n",
       "</div>"
      ],
      "text/plain": [
       "                  name                                        description  \\\n",
       "1001   Extremely Basic  Read 2 variables, named A and B and make the s...   \n",
       "1002  Area of a Circle  The formula to calculate the area of a circumf...   \n",
       "1003        Simple Sum  Read two integer values, in this case, the var...   \n",
       "1004    Simple Product  Read two integer values. After this, calculate...   \n",
       "1005         Average 1  Read two floating points' values of double pre...   \n",
       "\n",
       "                                                  input  \\\n",
       "1001     The input file will contain 2 integer numbers.   \n",
       "1002  The input contains a value of floating point (...   \n",
       "1003         The input file contains 2 integer numbers.   \n",
       "1004         The input file contains 2 integer numbers.   \n",
       "1005  The input file contains 2 floating points' val...   \n",
       "\n",
       "                                                 output  category  level  \\\n",
       "1001  Print the letter X (uppercase) with a blank sp...  Beginner      5   \n",
       "1002  Present the message \"A=\" followed by the value...  Beginner      5   \n",
       "1003  Print the variable SOMA with all the capital l...  Beginner      2   \n",
       "1004  Print PROD according to the following example,...  Beginner      1   \n",
       "1005  Print MEDIA(average in Portuguese) according t...  Beginner      4   \n",
       "\n",
       "      submissions  solved  ratio  n_level  \n",
       "1001       816938  236060  0.289        7  \n",
       "1002       650389  166254  0.256        8  \n",
       "1003       313933  165940  0.529        4  \n",
       "1004       238645  158387  0.664        2  \n",
       "1005       342625  136210  0.398        6  "
      ]
     },
     "execution_count": 12,
     "metadata": {},
     "output_type": "execute_result"
    }
   ],
   "source": [
    "lr = LinearRegression().fit(dsn[[\"ratio\"]], dsn[\"level\"])\n",
    "ds[\"n_level\"] = lr.predict(ds[[\"ratio\"]])\n",
    "ds[\"n_level\"] = ds[\"n_level\"].clip(0, 10).round().astype(int)\n",
    "ds.head()"
   ]
  },
  {
   "cell_type": "code",
   "execution_count": 13,
   "id": "ae8d21a4-6e5f-4476-892a-2bb5fce98599",
   "metadata": {},
   "outputs": [
    {
     "data": {
      "text/html": [
       "<div>\n",
       "<style scoped>\n",
       "    .dataframe tbody tr th:only-of-type {\n",
       "        vertical-align: middle;\n",
       "    }\n",
       "\n",
       "    .dataframe tbody tr th {\n",
       "        vertical-align: top;\n",
       "    }\n",
       "\n",
       "    .dataframe thead th {\n",
       "        text-align: right;\n",
       "    }\n",
       "</style>\n",
       "<table border=\"1\" class=\"dataframe\">\n",
       "  <thead>\n",
       "    <tr style=\"text-align: right;\">\n",
       "      <th></th>\n",
       "      <th>n_level</th>\n",
       "      <th>ratio</th>\n",
       "    </tr>\n",
       "  </thead>\n",
       "  <tbody>\n",
       "    <tr>\n",
       "      <th>n_level</th>\n",
       "      <td>1.000000</td>\n",
       "      <td>-0.990343</td>\n",
       "    </tr>\n",
       "    <tr>\n",
       "      <th>ratio</th>\n",
       "      <td>-0.990343</td>\n",
       "      <td>1.000000</td>\n",
       "    </tr>\n",
       "  </tbody>\n",
       "</table>\n",
       "</div>"
      ],
      "text/plain": [
       "          n_level     ratio\n",
       "n_level  1.000000 -0.990343\n",
       "ratio   -0.990343  1.000000"
      ]
     },
     "execution_count": 13,
     "metadata": {},
     "output_type": "execute_result"
    }
   ],
   "source": [
    "ds[[\"n_level\", \"ratio\"]].corr()"
   ]
  },
  {
   "cell_type": "code",
   "execution_count": 15,
   "id": "c1a0187a-3bd6-469b-851e-206dbcf40db6",
   "metadata": {},
   "outputs": [
    {
     "data": {
      "text/html": [
       "<div>\n",
       "<style scoped>\n",
       "    .dataframe tbody tr th:only-of-type {\n",
       "        vertical-align: middle;\n",
       "    }\n",
       "\n",
       "    .dataframe tbody tr th {\n",
       "        vertical-align: top;\n",
       "    }\n",
       "\n",
       "    .dataframe thead th {\n",
       "        text-align: right;\n",
       "    }\n",
       "</style>\n",
       "<table border=\"1\" class=\"dataframe\">\n",
       "  <thead>\n",
       "    <tr style=\"text-align: right;\">\n",
       "      <th></th>\n",
       "      <th>level</th>\n",
       "      <th>n_level</th>\n",
       "    </tr>\n",
       "  </thead>\n",
       "  <tbody>\n",
       "    <tr>\n",
       "      <th>level</th>\n",
       "      <td>1.000000</td>\n",
       "      <td>0.800439</td>\n",
       "    </tr>\n",
       "    <tr>\n",
       "      <th>n_level</th>\n",
       "      <td>0.800439</td>\n",
       "      <td>1.000000</td>\n",
       "    </tr>\n",
       "  </tbody>\n",
       "</table>\n",
       "</div>"
      ],
      "text/plain": [
       "            level   n_level\n",
       "level    1.000000  0.800439\n",
       "n_level  0.800439  1.000000"
      ]
     },
     "execution_count": 15,
     "metadata": {},
     "output_type": "execute_result"
    }
   ],
   "source": [
    "ds[[\"level\", \"n_level\"]].corr()"
   ]
  },
  {
   "cell_type": "code",
   "execution_count": 14,
   "id": "753bafd8-2ce4-49bf-b298-e81a556178de",
   "metadata": {},
   "outputs": [
    {
     "data": {
      "text/plain": [
       "<Axes: xlabel='n_level', ylabel='ratio'>"
      ]
     },
     "execution_count": 14,
     "metadata": {},
     "output_type": "execute_result"
    },
    {
     "data": {
      "image/png": "[encoded data removed]",
      "text/plain": [
       "<Figure size 640x480 with 1 Axes>"
      ]
     },
     "metadata": {},
     "output_type": "display_data"
    }
   ],
   "source": [
    "sns.boxplot(ds, x = \"n_level\", y = \"ratio\")"
   ]
  },
  {
   "cell_type": "markdown",
   "id": "b69f312d-b53e-4400-89e5-c477e26187c6",
   "metadata": {},
   "source": [
    "## Preprocessamento textual"
   ]
  },
  {
   "cell_type": "code",
   "execution_count": null,
   "id": "7f410dca-9c46-48db-a15c-7702f360a3e9",
   "metadata": {},
   "outputs": [],
   "source": []
  }
 ],
 "metadata": {
  "kernelspec": {
   "display_name": "Python 3 (ipykernel)",
   "language": "python",
   "name": "python3"
  },
  "language_info": {
   "codemirror_mode": {
    "name": "ipython",
    "version": 3
   },
   "file_extension": ".py",
   "mimetype": "text/x-python",
   "name": "python",
   "nbconvert_exporter": "python",
   "pygments_lexer": "ipython3",
   "version": "3.11.3"
  }
 },
 "nbformat": 4,
 "nbformat_minor": 5
}
